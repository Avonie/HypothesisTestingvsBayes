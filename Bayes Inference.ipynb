{
 "cells": [
  {
   "attachments": {},
   "cell_type": "markdown",
   "metadata": {},
   "source": [
    "What is Bayes' Rule?\n",
    "\n",
    "Simply stated, Bayes' Theorem finds the probability of a given event based on some prior knowledge of something that affects the event. Going back to our graduate example, the probability of having a large number of graduates is probably reliant on the year chosen. So by giving the year, you could come up with the probability of having a large number of students.\n",
    "\n",
    "So what does this theorem look like?\n",
    "\n",
    "P(A | B) = P(B | A) P(A) / P(B)\n",
    "\n",
    "Or in other words,\n",
    "\n",
    "P(Large Class | 2017) = (P(2017 | Large Class) * P(Large Class))/ P(2017)\n",
    "\n",
    "The Prior is P(Large Class)\n",
    "The posterior is P(Large Class | 2017)\n",
    "The likelihood is P(2017 | Large Class)\n",
    "\n",
    "Many examples of Bayesian Inference start with coin flips. We'll use that example here. Suppose you have a coin that, if flipped, you would expect to have heads 50% of the time. But a friend of yours, who has a penchant for strange objects, gave you the coin, leading you to think that maybe the coin could be a trick coin and could give you more tails than heads.\n",
    "\n",
    "Assuming that we flip the coin 100 times and we get 30 heads, what's the probability of getting a heads on a given flip?\n",
    "\n",
    "Here, our prior is .5\n",
    "Let's figure out the rest of the problem.\n",
    "\n",
    "Utilizing functions created by Fong Chun Chan, we can start visualizing the distributions."
   ]
  },
  {
   "cell_type": "code",
   "execution_count": 2,
   "metadata": {},
   "outputs": [],
   "source": [
    "library(dplyr)\n",
    "library(ggplot2)\n",
    "\n",
    "# Uses vals to generate a triangle probability distribution\n",
    "get_prior_distr <- function(vals) {\n",
    "  vals.pmin <- pmin(vals, 1 - vals)\n",
    "  \n",
    "  # Creates a data frame for the values and normalizes the prior so that they sum to 1.\n",
    "  dplyr::data_frame(theta = vals,\n",
    "                    prior = vals.pmin / sum(vals.pmin))\n",
    "}\n",
    "\n",
    "# Define the Space of all theta values\n",
    "theta.vals <- seq(0, 1, 0.1)\n",
    "\n",
    "theta.prior.distr.df <- get_prior_distr(theta.vals)"
   ]
  },
  {
   "cell_type": "code",
   "execution_count": 3,
   "metadata": {},
   "outputs": [
    {
     "data": {},
     "metadata": {},
     "output_type": "display_data"
    },
    {
     "data": {
      "image/png": "[encoded data removed]",
      "text/plain": [
       "plot without title"
      ]
     },
     "metadata": {},
     "output_type": "display_data"
    }
   ],
   "source": [
    "# Plots the Prior Probability Distribution\n",
    "\n",
    "plot_prior_distr <- function(prior.distr.df, plot.x.labels = TRUE) {\n",
    "  \n",
    "  theta.prior.p <- \n",
    "    prior.distr.df %>%\n",
    "    ggplot(aes(x = theta, y = prior)) +\n",
    "    geom_point() +\n",
    "    geom_segment(aes(x = theta, xend = theta, y = prior, yend = 0)) +\n",
    "    xlab(expression(theta)) +\n",
    "    ylab(expression(paste(\"P(\", theta, \")\"))) +\n",
    "    ggtitle(\"Prior Distribution\") \n",
    "  \n",
    "  if (plot.x.labels) {\n",
    "    theta.vals <- prior.distr.df[[\"theta\"]]\n",
    "    \n",
    "    theta.prior.p <- \n",
    "      theta.prior.p + \n",
    "      scale_x_continuous(breaks = c(theta.vals),\n",
    "                         labels = theta.vals)\n",
    "  }\n",
    "  \n",
    "  theta.prior.p\n",
    "}\n",
    "\n",
    "plot_prior_distr(theta.prior.distr.df)\n"
   ]
  },
  {
   "cell_type": "code",
   "execution_count": null,
   "metadata": {},
   "outputs": [],
   "source": []
  }
 ],
 "metadata": {
  "kernelspec": {
   "display_name": "R",
   "language": "R",
   "name": "ir"
  },
  "language_info": {
   "codemirror_mode": "r",
   "file_extension": ".r",
   "mimetype": "text/x-r-source",
   "name": "R",
   "pygments_lexer": "r",
   "version": "3.4.4"
  }
 },
 "nbformat": 4,
 "nbformat_minor": 2
}
