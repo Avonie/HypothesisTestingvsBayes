{
 "cells": [
  {
   "cell_type": "markdown",
   "metadata": {},
   "source": [
    "Hypothesis Testing\n",
    "Let's say that we're trying to determine if there were more or less graduates in the US in 2016 than in 2017. We believe that because of a changing economy that this number could be increasing. \n",
    "\n",
    "Formulating and Testing a Hypothesis\n",
    "2 parts of a hypothesis: Null and Alternative\n",
    "Null: Generally, what most would consider the expected result, that there is no significant difference between two groups\n",
    "Alternative: What you are hypothesizing, that there is a significant difference between the two groups\n",
    "\n",
    "Why are there two parts? Because you always need to compare your result to something else when determining if there is a scientific change in what you're comparing.\n",
    "\n",
    "Our Hypothesis\n",
    "H0: There is no significant difference between the mean number of graduates in 2016 and 2017.\n",
    "HA: The difference between the mean number of graduates in 2016 and 2017 is less than 0.\n",
    "\n",
    "Looking at data from the IPEDS Data Center (https://nces.ed.gov/ipeds/datacenter/Data.aspx), we can determine if the number of graduates from 2016 to 2017 are increasing or not.\n",
    "\n",
    "Can be done with a paired samples t-test.\n",
    "Assumptions:\n",
    "1. Data must be an interval or ratio value (not ordinal or nominal)\n",
    "2. Observations must not influence each other in any way.\n",
    "3. There should not be any outliers.\n",
    "4. The data should be normally distributed.\n",
    "\n",
    "Since number of graduates are not categories of any kind, assumption 1 should be correct.\n",
    "Since, typically, the number of graduates at one school do not determine the number from another school, assumption 2 is valid.\n",
    "We must test for the remaining assumptions.\n",
    "\n",
    "Originally, we were going to look at the IPEDS data center data, but it turned out to be highly skewed. Instead we will create our own data set that follows the above assumptions."
   ]
  },
  {
   "cell_type": "code",
   "execution_count": 3,
   "metadata": {},
   "outputs": [
    {
     "data": {
      "image/png": "[encoded data removed]",
      "text/plain": [
       "Plot with title “Histogram of gdata2016”"
      ]
     },
     "metadata": {},
     "output_type": "display_data"
    },
    {
     "data": {
      "image/png": "[encoded data removed]",
      "text/plain": [
       "Plot with title “Histogram of gdata2017”"
      ]
     },
     "metadata": {},
     "output_type": "display_data"
    }
   ],
   "source": [
    "# Randomly generate data\n",
    "\n",
    "gdata2016 <- rnorm(100, mean = 500, sd = 15)\n",
    "gdata2017 <- rnorm(100, mean = 600, sd = 15)\n",
    "\n",
    "# Plot new data\n",
    "hist(gdata2016)\n",
    "hist(gdata2017)\n"
   ]
  },
  {
   "cell_type": "code",
   "execution_count": 4,
   "metadata": {},
   "outputs": [
    {
     "data": {
      "text/plain": [
       "\n",
       "\tWelch Two Sample t-test\n",
       "\n",
       "data:  gdata2016 and gdata2017\n",
       "t = -47.489, df = 190.66, p-value < 2.2e-16\n",
       "alternative hypothesis: true difference in means is less than 0\n",
       "95 percent confidence interval:\n",
       "      -Inf -94.25022\n",
       "sample estimates:\n",
       "mean of x mean of y \n",
       " 499.9759  597.6249 \n"
      ]
     },
     "metadata": {},
     "output_type": "display_data"
    }
   ],
   "source": [
    "# Looks normal and there are no outliers. All assumptions are valid and we can move to the test.\n",
    "\n",
    "t.test(gdata2016,gdata2017, alternative = \"less\")"
   ]
  },
  {
   "cell_type": "markdown",
   "metadata": {},
   "source": [
    "Results show that the number of graduates in 2017 was larger than the number in 2016. How do we know?\n",
    "\n",
    "First, we have a negative t statistic. The way that the t-test works is that it takes the difference between the means of the two groups and divides the result by the standard error (standardizing the result). The result is that if the t-value is negative, the first group (2016) had a smaller mean than the second group (2017). Since this happens, we know that the number of graduates is increasing.\n",
    "But how do we know that this is a good or bad result? The p-value.\n",
    "\n",
    "P-value\n",
    "A p-value is the probability of finding the result of the test when the null hypothesis (that there was no difference between the two years of graduates) is true.\n",
    "A significance level (or alpha) is the benchmark that we use to determine if we reject the null hypothesis or keep it. Many times, alpha is set at 5%.\n",
    "\n",
    "Our p-value was extremely small, meaning that there very likely is a large difference between the two years.\n",
    "\n",
    "So why is it so important that the p-value is small?\n",
    "We can classify our result into one of four categories: True positive, False positive, False negative, and True negative."
   ]
  },
  {
   "cell_type": "code",
   "execution_count": 5,
   "metadata": {},
   "outputs": [
    {
     "data": {
      "text/html": [
       "<table>\n",
       "<thead><tr><th></th><th scope=col>True Positive</th><th scope=col>True Negative</th></tr></thead>\n",
       "<tbody>\n",
       "\t<tr><th scope=row>Predicted Positive</th><td>True Positive </td><td>False Positive</td></tr>\n",
       "\t<tr><th scope=row>Predicted Negative</th><td>False Negative</td><td>True Negative </td></tr>\n",
       "</tbody>\n",
       "</table>\n"
      ],
      "text/latex": [
       "\\begin{tabular}{r|ll}\n",
       "  & True Positive & True Negative\\\\\n",
       "\\hline\n",
       "\tPredicted Positive & True Positive  & False Positive\\\\\n",
       "\tPredicted Negative & False Negative & True Negative \\\\\n",
       "\\end{tabular}\n"
      ],
      "text/markdown": [
       "\n",
       "| <!--/--> | True Positive | True Negative |\n",
       "|---|---|---|\n",
       "| Predicted Positive | True Positive  | False Positive |\n",
       "| Predicted Negative | False Negative | True Negative  |\n",
       "\n"
      ],
      "text/plain": [
       "                   True Positive  True Negative \n",
       "Predicted Positive True Positive  False Positive\n",
       "Predicted Negative False Negative True Negative "
      ]
     },
     "metadata": {},
     "output_type": "display_data"
    }
   ],
   "source": [
    "# Create a contingency table to show the four categories\n",
    "\n",
    "contingencytable <- matrix(c(\"True Positive\",  \"False Negative\", \"False Positive\",\"True Negative\"),2)\n",
    "\n",
    "dimnames(contingencytable) <- list( c(\"Predicted Positive\",\"Predicted Negative\"), c(\"True Positive\", \"True Negative\"))\n",
    "\n",
    "contingencytable"
   ]
  },
  {
   "cell_type": "markdown",
   "metadata": {},
   "source": [
    "To go back to our result, we were able to reject the null hypothesis based on our evidence.\n",
    "A Type I error is a False Positive, rejecting the null hypothesis when it is actually the truth.\n",
    "A Type II error is a False Negative, failing to reject the null hypothesis when it is false.\n",
    "\n",
    "Looking at our contingency table, we can see that when our predicted value is positive, it can truly be either positive or negative. If it is truly negative (when predicted positive), that is a type I error. When our predicted value is negative, if it is truly positive, then we have committed a type II error.\n",
    "\n",
    "Some additional measures of how well a test was run are precision and recall. Precision is the number of observations sampled that are relevant and recall is the number of relevant observations that are sampled. In our example, we only have one observation and it was true, so our precision is 1 and our recall is 1. However, if we were to complete our experiment a few more times with new data and had the below results:"
   ]
  },
  {
   "cell_type": "code",
   "execution_count": 6,
   "metadata": {},
   "outputs": [
    {
     "data": {
      "text/html": [
       "<table>\n",
       "<thead><tr><th></th><th scope=col>True Positive</th><th scope=col>True Negative</th></tr></thead>\n",
       "<tbody>\n",
       "\t<tr><th scope=row>Predicted Positive</th><td>10</td><td>3 </td></tr>\n",
       "\t<tr><th scope=row>Predicted Negative</th><td> 2</td><td>7 </td></tr>\n",
       "</tbody>\n",
       "</table>\n"
      ],
      "text/latex": [
       "\\begin{tabular}{r|ll}\n",
       "  & True Positive & True Negative\\\\\n",
       "\\hline\n",
       "\tPredicted Positive & 10 & 3 \\\\\n",
       "\tPredicted Negative &  2 & 7 \\\\\n",
       "\\end{tabular}\n"
      ],
      "text/markdown": [
       "\n",
       "| <!--/--> | True Positive | True Negative |\n",
       "|---|---|---|\n",
       "| Predicted Positive | 10 | 3  |\n",
       "| Predicted Negative |  2 | 7  |\n",
       "\n"
      ],
      "text/plain": [
       "                   True Positive True Negative\n",
       "Predicted Positive 10            3            \n",
       "Predicted Negative  2            7            "
      ]
     },
     "metadata": {},
     "output_type": "display_data"
    },
    {
     "data": {
      "text/html": [
       "0.769230769230769"
      ],
      "text/latex": [
       "0.769230769230769"
      ],
      "text/markdown": [
       "0.769230769230769"
      ],
      "text/plain": [
       "[1] 0.7692308"
      ]
     },
     "metadata": {},
     "output_type": "display_data"
    },
    {
     "data": {
      "text/html": [
       "0.833333333333333"
      ],
      "text/latex": [
       "0.833333333333333"
      ],
      "text/markdown": [
       "0.833333333333333"
      ],
      "text/plain": [
       "[1] 0.8333333"
      ]
     },
     "metadata": {},
     "output_type": "display_data"
    }
   ],
   "source": [
    "moregrads <- matrix(c(10,2,3,7),2)\n",
    "\n",
    "dimnames(moregrads) <- list( c(\"Predicted Positive\",\"Predicted Negative\"), c(\"True Positive\", \"True Negative\"))\n",
    "\n",
    "moregrads\n",
    "\n",
    "# We would calculate precision as true positives divided by total predicted positive. \n",
    "\n",
    "10/(10+3)\n",
    "\n",
    "# Recall would be true positives divided by total true positives.\n",
    "\n",
    "10/(10+2)"
   ]
  },
  {
   "cell_type": "markdown",
   "metadata": {},
   "source": [
    "But let's say that we had a large number of experiments with very low p-values or very high p-values. The chances of these experiments being incorrectly classified is reduced based on how far away the p-values are from the significance level (or alpha). If our p-value was .02 and our significance level was .05, then we would be at least 95% confident that our result was not due to chance. \n",
    "\n",
    "However, if our p-value was .1 with the same significance level, we would not reject the null hypothesis and commit a type II error (assuming that the number of graduates really are increasing)."
   ]
  }
 ],
 "metadata": {
  "kernelspec": {
   "display_name": "R",
   "language": "R",
   "name": "ir"
  },
  "language_info": {
   "codemirror_mode": "r",
   "file_extension": ".r",
   "mimetype": "text/x-r-source",
   "name": "R",
   "pygments_lexer": "r",
   "version": "3.4.4"
  }
 },
 "nbformat": 4,
 "nbformat_minor": 2
}
